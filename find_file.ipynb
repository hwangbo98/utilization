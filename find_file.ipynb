{
 "cells": [
  {
   "cell_type": "code",
   "execution_count": 12,
   "metadata": {},
   "outputs": [
    {
     "name": "stderr",
     "output_type": "stream",
     "text": [
      "100%|██████████| 15316/15316 [00:00<00:00, 444459.54it/s]"
     ]
    },
    {
     "name": "stdout",
     "output_type": "stream",
     "text": [
      "/mnt/hdd3/showniq/Data/lime_3rd/labeling/images/etc/etc001/202205010700541000184125.jpg\n"
     ]
    },
    {
     "name": "stderr",
     "output_type": "stream",
     "text": [
      "\n"
     ]
    }
   ],
   "source": [
    "from glob import glob\n",
    "import glob\n",
    "from tqdm import tqdm\n",
    "\n",
    "file_list = glob.glob('/mnt/hdd3/showniq/Data/lime_3rd/labeling/images/**/*.jpg', recursive=True)\n",
    "\n",
    "for k in tqdm(file_list) :\n",
    "    if k.split(\"/\")[-1] == \"202205010700541000184125.jpg\" :\n",
    "        print(k)\n",
    "    elif k.split(\"/\")[-1] == '202205010700541000184125.jpg' :\n",
    "        print(k)\n",
    "    elif k.split(\"/\")[-1] ==  '202205010700541000184125.jpg':\n",
    "        print(k)"
   ]
  }
 ],
 "metadata": {
  "kernelspec": {
   "display_name": "n_yolov7",
   "language": "python",
   "name": "n_yolov7"
  },
  "language_info": {
   "codemirror_mode": {
    "name": "ipython",
    "version": 3
   },
   "file_extension": ".py",
   "mimetype": "text/x-python",
   "name": "python",
   "nbconvert_exporter": "python",
   "pygments_lexer": "ipython3",
   "version": "3.8.13"
  },
  "orig_nbformat": 4
 },
 "nbformat": 4,
 "nbformat_minor": 2
}
