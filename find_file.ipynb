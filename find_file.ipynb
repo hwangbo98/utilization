{
 "cells": [
  {
   "cell_type": "code",
   "execution_count": 13,
   "metadata": {},
   "outputs": [
    {
     "name": "stderr",
     "output_type": "stream",
     "text": [
      "100%|██████████| 12547/12547 [00:00<00:00, 1089676.62it/s]"
     ]
    },
    {
     "name": "stdout",
     "output_type": "stream",
     "text": [
      "/home/hwangbo/showniq_5th_data/labels/human/men/basic/basic001/202303211830051001294797.json\n"
     ]
    },
    {
     "name": "stderr",
     "output_type": "stream",
     "text": [
      "\n"
     ]
    }
   ],
   "source": [
    "from glob import glob\n",
    "import glob\n",
    "import os\n",
    "from tqdm import tqdm\n",
    "\n",
    "def get_file_list(dir): \n",
    "    file_list = [] \n",
    "    labels_list = []\n",
    "    for root, dirs, files in os.walk(dir): \n",
    "        for file in files: \n",
    "            file_path = os.path.join(root,file)\n",
    "            json_path = file_path.replace(\"images\", \"labels\")\n",
    "            file_list.append(file_path)\n",
    "            labels_list.append(json_path) \n",
    "\n",
    "    return file_list, labels_list\n",
    "\n",
    "file_list, labels_list = get_file_list('/home/hwangbo/showniq_5th_data/images')\n",
    "# print(labels_list)\n",
    "for k in tqdm(labels_list) :\n",
    "    if k.split(\"/\")[-1] == \"202303211830051001294797.json\" :\n",
    "        print(k)\n",
    "    elif k.split(\"/\")[-1] == '202303211830051001294797.json' :\n",
    "        print(k)\n",
    "    elif k.split(\"/\")[-1] ==  '202303211830051001294797.json':\n",
    "        print(k)"
   ]
  }
 ],
 "metadata": {
  "kernelspec": {
   "display_name": "base",
   "language": "python",
   "name": "python3"
  },
  "language_info": {
   "codemirror_mode": {
    "name": "ipython",
    "version": 3
   },
   "file_extension": ".py",
   "mimetype": "text/x-python",
   "name": "python",
   "nbconvert_exporter": "python",
   "pygments_lexer": "ipython3",
   "version": "3.9.12"
  },
  "orig_nbformat": 4
 },
 "nbformat": 4,
 "nbformat_minor": 2
}
