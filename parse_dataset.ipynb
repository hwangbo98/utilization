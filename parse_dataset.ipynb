{
 "cells": [
  {
   "cell_type": "code",
   "execution_count": 2,
   "metadata": {},
   "outputs": [
    {
     "name": "stdout",
     "output_type": "stream",
     "text": [
      "8001\n"
     ]
    },
    {
     "name": "stderr",
     "output_type": "stream",
     "text": [
      "100%|██████████| 17951/17951 [00:10<00:00, 1658.55it/s]\n",
      "  0%|          | 0/17951 [00:00<?, ?it/s]\n"
     ]
    }
   ],
   "source": [
    "import glob\n",
    "from tqdm import tqdm\n",
    "import shutil\n",
    "import random\n",
    "\n",
    "path_1 = glob.glob('/mnt/hdd3/showniq/Data/lime_1st/labeling/images/human/**/*.jpg', recursive=True)\n",
    "path_2 = glob.glob('/mnt/hdd3/showniq/Data/lime_2nd/labeling/images/human/**/*.jpg', recursive=True)\n",
    "\n",
    "# path_1 += path_2\n",
    "assemble_path = path_1 + path_2\n",
    "# print(assemble_path[:3])\n",
    "print(len(assemble_path))\n",
    "new_ass_list = []\n",
    "for ass in assemble_path :\n",
    "    new_ass_list.append(ass.split(\"/\")[-1])\n",
    "# print(new_ass_list)\n",
    "f = open('/home/hwangbo/showinq/Data/lime_mix/train.txt', 'r') \n",
    "f_list = []\n",
    "while True :\n",
    "    line = f.readline()\n",
    "    if not line :\n",
    "        break\n",
    "    f_list.append(line.split(\"/\")[-1].strip())\n",
    "\n",
    "# print(f_list)\n",
    "origin_img_path = \"/home/hwangbo/showinq/Data/lime_mix/images/train/\"\n",
    "dest_img_path = \"/home/hwangbo/showinq/Data/human_data/images/train/\"\n",
    "\n",
    "origin_txt_path = \"/home/hwangbo/showinq/Data/lime_mix/labels/train/\"\n",
    "dest_txt_path = \"/home/hwangbo/showinq/Data/human_data/labels/train/\"\n",
    "random.shuffle(f_list)\n",
    "\n",
    "item_count = 0\n",
    "# 사람 3000개 뽑기 3000개 넘어가면 break\n",
    "for file_name in tqdm(f_list) :\n",
    "    \n",
    "    if file_name in new_ass_list :\n",
    "        # item_count +=1\n",
    "        shutil.copyfile(origin_img_path + file_name, dest_img_path + file_name)\n",
    "        shutil.copyfile(origin_txt_path + file_name.split(\".\")[0] + \".txt\", dest_txt_path + file_name.split(\".\")[0] + \".txt\")\n",
    "    # elif item_count >3000 :\n",
    "    #     break\n",
    "item_count = 0\n",
    "for file_name in tqdm(f_list) :\n",
    "    \n",
    "    if file_name not in new_ass_list and item_count < 2000:\n",
    "        item_count +=1\n",
    "        shutil.copyfile(origin_img_path + file_name, dest_img_path + file_name)\n",
    "        shutil.copyfile(origin_txt_path + file_name.split(\".\")[0] + \".txt\", dest_txt_path + file_name.split(\".\")[0] + \".txt\")\n",
    "    elif item_count >= 2000:\n",
    "        break\n",
    "    # elif item_count >3000 :\n",
    "    #     break\n",
    "    "
   ]
  }
 ],
 "metadata": {
  "kernelspec": {
   "display_name": "n_yolov7",
   "language": "python",
   "name": "python3"
  },
  "language_info": {
   "codemirror_mode": {
    "name": "ipython",
    "version": 3
   },
   "file_extension": ".py",
   "mimetype": "text/x-python",
   "name": "python",
   "nbconvert_exporter": "python",
   "pygments_lexer": "ipython3",
   "version": "3.8.13"
  },
  "orig_nbformat": 4,
  "vscode": {
   "interpreter": {
    "hash": "579e4dc71407b8ee65c7c1c025ce43919903b3f412f41a4e4b3c70aaebfbdba9"
   }
  }
 },
 "nbformat": 4,
 "nbformat_minor": 2
}
