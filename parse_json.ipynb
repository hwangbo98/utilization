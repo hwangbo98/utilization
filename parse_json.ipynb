{
 "cells": [
  {
   "cell_type": "code",
   "execution_count": 12,
   "metadata": {},
   "outputs": [],
   "source": [
    "import json\n",
    "file_path = \"/home/hwangbo/fashionpedia/instances_attributes_val2020.json\"\n",
    "json_data = {}\n",
    "list_names = []\n",
    "out_file_name = \"/home/hwangbo/yolov7/data/fashionpedia_yolo.yaml\"\n",
    "with open(file_path, \"r\") as json_file :\n",
    "    json_data = json.load(json_file)\n",
    "# print(json_data)\n",
    "f = open(out_file_name, \"w\") \n",
    "\n",
    "for i in range (len(json_data['categories'] )) :\n",
    "    list_names.append(json_data['categories'][i]['name'])\n",
    "    # f.write('\\n')\n",
    "for i in range (len(json_data['attributes'] )) :\n",
    "    list_names.append(json_data['attributes'][i]['name'])\n",
    "    \n",
    "f.write(str(list_names))\n",
    "f.close()"
   ]
  }
 ],
 "metadata": {
  "kernelspec": {
   "display_name": "Python 3.8.13 ('yolov7': conda)",
   "language": "python",
   "name": "python3"
  },
  "language_info": {
   "codemirror_mode": {
    "name": "ipython",
    "version": 3
   },
   "file_extension": ".py",
   "mimetype": "text/x-python",
   "name": "python",
   "nbconvert_exporter": "python",
   "pygments_lexer": "ipython3",
   "version": "3.8.13"
  },
  "orig_nbformat": 4,
  "vscode": {
   "interpreter": {
    "hash": "883ff9742a9a368d11501be8b64cc6a1bc441bb55db32227857e0fa39ba72aaa"
   }
  }
 },
 "nbformat": 4,
 "nbformat_minor": 2
}
