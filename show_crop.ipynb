{
 "cells": [
  {
   "cell_type": "code",
   "execution_count": 17,
   "metadata": {},
   "outputs": [
    {
     "name": "stderr",
     "output_type": "stream",
     "text": [
      "100%|██████████| 7723/7723 [04:23<00:00, 29.29it/s]\n"
     ]
    }
   ],
   "source": [
    "\n",
    "import cv2\n",
    "from glob import glob\n",
    "import matplotlib.pyplot as plt\n",
    "import json\n",
    "from tqdm import tqdm\n",
    "\n",
    "image_path = sorted(glob(\"/home/hwangbo/men_women/images\"+ '/**.jpg'))\n",
    "# image_path = ['/home/hwangbo/men_women/images/202204082026181000000127.jpg']\n",
    "for file in tqdm(image_path) :\n",
    "#Load image\n",
    "    img = cv2.imread(file)\n",
    "    # plt.imshow(img)\n",
    "    json_path = file.replace(\"images\", \"labels\")\n",
    "    json_path = json_path.replace(\"jpg\", \"json\")\n",
    "                        \n",
    "    # print(f'path = {json_path}')\n",
    "    with open(json_path, \"r\") as fp :\n",
    "        data = json.load(fp)\n",
    "    path = file.split(\".\")[0]\n",
    "    path = path.replace(\"images\", \"crop_images\")\n",
    "    # print(f'data = {data['human_info'][det_index]}')\n",
    "    for idx, human in enumerate(data['human_info']) :\n",
    "        bound = human['bounding_box']\n",
    "        # print(idx)\n",
    "        left_top = (bound['lt_x'],bound['lt_y'])\n",
    "        right_bottom = (bound['rb_x'], bound['rb_y'])\n",
    "    # print(data['human_info'][det_index]['human_id'])\n",
    "    # save_one_by_one.append(data['human_info'][det_index]['human_id'].split(\":\")[1])\n",
    "    #Cropped data\n",
    "    # start = (200, 100)\n",
    "    # end = (320, 230)\n",
    "        output = img[left_top[1]:right_bottom[1], left_top[0]:right_bottom[0]]\n",
    "        # plt.imshow(output)\n",
    "        cv2.imwrite(path + \"_\" + str(idx) + \".jpg\" ,output)"
   ]
  }
 ],
 "metadata": {
  "kernelspec": {
   "display_name": "n_yolov7",
   "language": "python",
   "name": "n_yolov7"
  },
  "orig_nbformat": 4,
  "vscode": {
   "interpreter": {
    "hash": "68149caa75c399e2dfd742eada66f44e93c61fdf430dc528454d22427b88e84e"
   }
  }
 },
 "nbformat": 4,
 "nbformat_minor": 2
}
