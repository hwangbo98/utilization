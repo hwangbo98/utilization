{
 "cells": [
  {
   "cell_type": "code",
   "execution_count": 1,
   "metadata": {},
   "outputs": [
    {
     "name": "stderr",
     "output_type": "stream",
     "text": [
      "  0%|          | 0/1 [00:00<?, ?it/s]\n"
     ]
    },
    {
     "ename": "NameError",
     "evalue": "name 'json_path' is not defined",
     "output_type": "error",
     "traceback": [
      "\u001b[0;31m---------------------------------------------------------------------------\u001b[0m",
      "\u001b[0;31mNameError\u001b[0m                                 Traceback (most recent call last)",
      "Cell \u001b[0;32mIn[1], line 14\u001b[0m\n\u001b[1;32m     11\u001b[0m img \u001b[39m=\u001b[39m cv2\u001b[39m.\u001b[39mimread(file)\n\u001b[1;32m     12\u001b[0m \u001b[39m# plt.imshow(img)\u001b[39;00m\n\u001b[1;32m     13\u001b[0m \u001b[39m# json_path = file.replace(\"images\", \"labels\")\u001b[39;00m\n\u001b[0;32m---> 14\u001b[0m json_path \u001b[39m=\u001b[39m json_path\u001b[39m.\u001b[39mreplace(\u001b[39m\"\u001b[39m\u001b[39mjpg\u001b[39m\u001b[39m\"\u001b[39m, \u001b[39m\"\u001b[39m\u001b[39mjson\u001b[39m\u001b[39m\"\u001b[39m)\n\u001b[1;32m     16\u001b[0m \u001b[39m# print(f'path = {json_path}')\u001b[39;00m\n\u001b[1;32m     17\u001b[0m \u001b[39mwith\u001b[39;00m \u001b[39mopen\u001b[39m(json_path, \u001b[39m\"\u001b[39m\u001b[39mr\u001b[39m\u001b[39m\"\u001b[39m) \u001b[39mas\u001b[39;00m fp :\n",
      "\u001b[0;31mNameError\u001b[0m: name 'json_path' is not defined"
     ]
    }
   ],
   "source": [
    "\n",
    "import cv2\n",
    "from glob import glob\n",
    "import matplotlib.pyplot as plt\n",
    "import json\n",
    "from tqdm import tqdm\n",
    "\n",
    "# image_path = sorted(glob(\"/home/hwangbo/men_women/images\"+ '/**.jpg'))\n",
    "image_path = ['/home/hwangbo/blackfishutrecht_All_Bohemian_Ca8-7oJsCTe-20220929153609-06.jpg']\n",
    "for file in tqdm(image_path) :\n",
    "#Load image\n",
    "    img = cv2.imread(file)\n",
    "    # plt.imshow(img)\n",
    "    # json_path = file.replace(\"images\", \"labels\")\n",
    "    json_path = file.replace(\"jpg\", \"json\")\n",
    "                        \n",
    "    # print(f'path = {json_path}')\n",
    "    with open(json_path, \"r\") as fp :\n",
    "        data = json.load(fp)\n",
    "    path = file.split(\".\")[0]\n",
    "    # path = path.replace(\"images\", \"crop_images\")\n",
    "    # print(f'data = {data['human_info'][det_index]}')\n",
    "    for idx, human in enumerate(data['human_info']) :\n",
    "        bound = human['bounding_box']\n",
    "        # print(idx)\n",
    "        left_top = (bound['lt_x'],bound['lt_y'])\n",
    "        right_bottom = (bound['rb_x'], bound['rb_y'])\n",
    "    # print(data['human_info'][det_index]['human_id'])\n",
    "    # save_one_by_one.append(data['human_info'][det_index]['human_id'].split(\":\")[1])\n",
    "    #Cropped data\n",
    "    # start = (200, 100)\n",
    "    # end = (320, 230)\n",
    "        output = img[left_top[1]:right_bottom[1], left_top[0]:right_bottom[0]]\n",
    "        # plt.imshow(output)\n",
    "        cv2.imwrite(path + \"_\" + str(idx) + \".jpg\" ,output)"
   ]
  }
 ],
 "metadata": {
  "kernelspec": {
   "display_name": "n_yolov7",
   "language": "python",
   "name": "python3"
  },
  "language_info": {
   "codemirror_mode": {
    "name": "ipython",
    "version": 3
   },
   "file_extension": ".py",
   "mimetype": "text/x-python",
   "name": "python",
   "nbconvert_exporter": "python",
   "pygments_lexer": "ipython3",
   "version": "3.8.13"
  },
  "orig_nbformat": 4,
  "vscode": {
   "interpreter": {
    "hash": "579e4dc71407b8ee65c7c1c025ce43919903b3f412f41a4e4b3c70aaebfbdba9"
   }
  }
 },
 "nbformat": 4,
 "nbformat_minor": 2
}
