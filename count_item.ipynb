{
 "cells": [
  {
   "cell_type": "code",
   "execution_count": 19,
   "metadata": {},
   "outputs": [
    {
     "name": "stdout",
     "output_type": "stream",
     "text": [
      "5155\n"
     ]
    },
    {
     "name": "stderr",
     "output_type": "stream",
     "text": [
      "100%|██████████| 22647/22647 [00:02<00:00, 9559.61it/s]\n"
     ]
    }
   ],
   "source": [
    "import glob\n",
    "from tqdm import tqdm\n",
    "\n",
    "path_1 = glob.glob('/mnt/hdd3/showniq/Data/lime_1st/labeling/images/items/**/*.jpg', recursive=True)\n",
    "path_2 = glob.glob('/mnt/hdd3/showniq/Data/lime_2nd/labeling/images/items/**/*.jpg', recursive=True)\n",
    "\n",
    "# path_1 += path_2\n",
    "assemble_path = path_1 + path_2\n",
    "# print(assemble_path[:3])\n",
    "\n",
    "f = open('/home/hwangbo/showinq/Data/lime_mix/train.txt', 'r') \n",
    "f_list = []\n",
    "while True :\n",
    "    line = f.readline()\n",
    "    if not line :\n",
    "        break\n",
    "    f_list.append(line.strip())\n",
    "\n",
    "print(len(f_list))\n",
    "\n",
    "# item = open('/home/hwangbo/showinq/Data/lime_mix/test_item.txt', 'r') \n",
    "# item_list = []\n",
    "# while True :\n",
    "#     line = item.readline()\n",
    "#     if not line :\n",
    "#         break\n",
    "#     item_list.append(line.strip())\n",
    "\n",
    "# for k in f_list :\n",
    "#     if k not in item_list :\n",
    "#         with open(\"/home/hwangbo/showinq/Data/lime_mix/test_human.txt\", \"a\") as fp :\n",
    "#             fp.write(k + \"\\n\")\n",
    "# # for line in f :\n",
    "# #     print(f.split(\"/\")[-1])\n",
    "# #     break\n",
    "count_item = 0\n",
    "count_human = 0\n",
    "for data in tqdm(assemble_path) :\n",
    "    origin_path = \"/mnt/hdd3/showniq/Data/lime_mix/images/train/\"\n",
    "    file_name = data.split(\"/\")[-1]\n",
    "    new_path = origin_path + file_name\n",
    "\n",
    "    if (new_path in f_list) :\n",
    "        # with open(\"/home/hwangbo/showinq/Data/lime_mix/test_item.txt\", \"a\") as file :\n",
    "        #     file.write(new_path + \"\\n\")\n",
    "        count_item+=1\n",
    "    else :\n",
    "        count_human+=1\n",
    "\n",
    "print(f'include human : {count_human}, only item : {count_item}')\n",
    "    # else :\n",
    "    #     with open(\"/home/hwangbo/showinq/Data/lime_mix/test_human.txt\", \"a\") as fp :\n",
    "    #         fp.write(new_path + \"\\n\")\n",
    "\n",
    "# with open(\"/home/hwangbo/showinq/Data/lime_mix/test.txt\", \"r\") as file :\n",
    "#     strings = file.readlnes()\n",
    "# print(strings)\n",
    "# while True :\n",
    "#     line = f.readline()\n",
    "#     origin_path = \"/mnt/hdd3/showniq/Data/lime_mix/images/test/\"\n",
    "#     if not line : break\n",
    "#     file_name = line.split(\"/\")[-1]\n",
    "#     new_path = origin_path + file_name\n",
    "\n",
    "#     if ((assemble_path.split(\"/\")[-1] == file_name)) :\n",
    "#         with open(\"/home/hwangbo/showinq/Data/lime_mix/test_item.txt\", \"a\") as file :\n",
    "#             file.write(new_path)\n",
    "#     else :\n",
    "#         with open(\"/home/hwangbo/showinq/Data/lime_mix/test_human.txt\", \"a\") as fp :\n",
    "#             fp.write(new_path)\n",
    "\n",
    "    # if file_name  "
   ]
  }
 ],
 "metadata": {
  "kernelspec": {
   "display_name": "n_yolov7",
   "language": "python",
   "name": "python3"
  },
  "language_info": {
   "codemirror_mode": {
    "name": "ipython",
    "version": 3
   },
   "file_extension": ".py",
   "mimetype": "text/x-python",
   "name": "python",
   "nbconvert_exporter": "python",
   "pygments_lexer": "ipython3",
   "version": "3.8.13"
  },
  "orig_nbformat": 4,
  "vscode": {
   "interpreter": {
    "hash": "579e4dc71407b8ee65c7c1c025ce43919903b3f412f41a4e4b3c70aaebfbdba9"
   }
  }
 },
 "nbformat": 4,
 "nbformat_minor": 2
}
