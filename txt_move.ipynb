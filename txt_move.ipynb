{
 "cells": [
  {
   "cell_type": "code",
   "execution_count": null,
   "metadata": {},
   "outputs": [],
   "source": [
    "from glob import glob\n",
    "import glob\n",
    "import shutil\n",
    "from tqdm import tqdm\n",
    "\n",
    "train_list = glob.glob('/mnt/hdd3/showniq/Data/lime_1_2_3/images/train/*.jpg', recursive=True)\n",
    "test_list = glob.glob('/mnt/hdd3/showniq/Data/lime_1_2_3/images/test/*.jpg', recursive=True)\n",
    "val_list = glob.glob('/mnt/hdd3/showniq/Data/lime_1_2_3/images/val/*.jpg', recursive=True)\n",
    "\n",
    "txt_list = glob.glob('/mnt/hdd3/showniq/Data/lime_mix_all/labels_txt/*.txt', recursive=True)\n",
    "\n",
    "for k in tqdm(txt_list) :\n",
    "    if k.split(\"/\")[-1].replace(\"txt\", \"jpg\") in train_list :\n",
    "        shutil.copyfile(k, '/mnt/hdd3/showniq/Data/lime_1_2_3/labels/train/' + k.split(\"/\")[-1])\n",
    "    elif k.split(\"/\")[-1].replace(\"txt\", \"jpg\") in test_list :\n",
    "        shutil.copyfile(k, '/mnt/hdd3/showniq/Data/lime_1_2_3/labels/test/' + k.split(\"/\")[-1])\n",
    "    elif k.split(\"/\")[-1].replace(\"txt\", \"jpg\") in val_list:\n",
    "        shutil.copyfile(k, '/mnt/hdd3/showniq/Data/lime_1_2_3/labels/val/' + k.split(\"/\")[-1])"
   ]
  }
 ],
 "metadata": {
  "kernelspec": {
   "display_name": "n_yolov7",
   "language": "python",
   "name": "n_yolov7"
  },
  "language_info": {
   "name": "python",
   "version": "3.9.16"
  },
  "orig_nbformat": 4
 },
 "nbformat": 4,
 "nbformat_minor": 2
}
