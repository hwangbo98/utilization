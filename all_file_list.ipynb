{
 "cells": [
  {
   "cell_type": "code",
   "execution_count": 4,
   "metadata": {},
   "outputs": [
    {
     "name": "stdout",
     "output_type": "stream",
     "text": [
      "13326 13326\n"
     ]
    }
   ],
   "source": [
    "import os \n",
    "from tqdm import tqdm\n",
    "import shutil\n",
    "import time\n",
    "\n",
    "def get_file_list(dir): \n",
    "    file_list = [] \n",
    "    labels_list = []\n",
    "    for root, dirs, files in os.walk(dir): \n",
    "        for file in files: \n",
    "            file_path = os.path.join(root,file)\n",
    "            json_path = file_path.replace(\"images\", \"labels\")\n",
    "            file_list.append(file_path)\n",
    "            labels_list.append(json_path) \n",
    "\n",
    "    return file_list, labels_list\n",
    "\n",
    "def copy_all_file(file_list, new_path):\n",
    "    for src_path in tqdm (file_list):\n",
    "        file = src_path.split(\"/\")[-1]\n",
    "        shutil.copyfile(src_path, new_path+\"/\"+file)\n",
    "        print(\"파일 {} 작업 완료\".format(file)) # 작업한 파일명 출력\n",
    "  \n",
    "dir = '/home/hwangbo/showinq/Data/lime_1st/labeling/images' # 디렉토리 이름 지정 \n",
    "new_file_path = \"/home/hwangbo/showinq/Data/final_lime/images\"\n",
    "new_json_path = \"/home/hwangbo/showinq/Data/final_lime/labels\"\n",
    "file_list, json_list = get_file_list(dir) # 하위 디렉토리의 모든 파일을 리스트로 저장합니다.  \n",
    "\n",
    "copy_all_file(file_list, new_file_path)\n",
    "copy_all_file(json_list, new_json_path)\n",
    "print(len(file_list), len(json_list))"
   ]
  }
 ],
 "metadata": {
  "kernelspec": {
   "display_name": "n_yolov7",
   "language": "python",
   "name": "n_yolov7"
  },
  "language_info": {
   "codemirror_mode": {
    "name": "ipython",
    "version": 3
   },
   "file_extension": ".py",
   "mimetype": "text/x-python",
   "name": "python",
   "nbconvert_exporter": "python",
   "pygments_lexer": "ipython3",
   "version": "3.9.16"
  },
  "orig_nbformat": 4
 },
 "nbformat": 4,
 "nbformat_minor": 2
}
