{
 "cells": [
  {
   "cell_type": "code",
   "execution_count": 4,
   "metadata": {},
   "outputs": [
    {
     "ename": "KeyboardInterrupt",
     "evalue": "",
     "output_type": "error",
     "traceback": [
      "\u001b[0;31m---------------------------------------------------------------------------\u001b[0m",
      "\u001b[0;31mKeyboardInterrupt\u001b[0m                         Traceback (most recent call last)",
      "Cell \u001b[0;32mIn[4], line 13\u001b[0m\n\u001b[1;32m      9\u001b[0m     data \u001b[39m=\u001b[39m pickle\u001b[39m.\u001b[39mload(fp)\n\u001b[1;32m     11\u001b[0m \u001b[39mfor\u001b[39;00m k \u001b[39min\u001b[39;00m data :\n\u001b[1;32m     12\u001b[0m     \u001b[39m# print(k[0])\u001b[39;00m\n\u001b[0;32m---> 13\u001b[0m     img \u001b[39m=\u001b[39m cv2\u001b[39m.\u001b[39;49mimread(k[\u001b[39m0\u001b[39;49m], \u001b[39m1\u001b[39;49m)\n\u001b[1;32m     14\u001b[0m     img \u001b[39m=\u001b[39m cv2\u001b[39m.\u001b[39mrectangle(img, (k[\u001b[39m1\u001b[39m], k[\u001b[39m2\u001b[39m]),(k[\u001b[39m3\u001b[39m], k[\u001b[39m4\u001b[39m]), bc, \u001b[39m3\u001b[39m)\n\u001b[1;32m     15\u001b[0m     \u001b[39m# if k[5] == '1' :\u001b[39;00m\n\u001b[1;32m     16\u001b[0m     \u001b[39m#     print(\"man\")\u001b[39;00m\n\u001b[1;32m     17\u001b[0m     \u001b[39m# else :\u001b[39;00m\n\u001b[1;32m     18\u001b[0m     \u001b[39m#     print(\"woman\")\u001b[39;00m\n\u001b[1;32m     19\u001b[0m     \u001b[39m# img = cv2.rectangle(img, (413, 70),(476, 151), bc, 3)\u001b[39;00m\n",
      "\u001b[0;31mKeyboardInterrupt\u001b[0m: "
     ]
    }
   ],
   "source": [
    "import numpy as np\n",
    "import cv2\n",
    "import matplotlib.pyplot as plt\n",
    "import pickle\n",
    "\n",
    "bc = (255,0,0)\n",
    "\n",
    "with open('../yolov7-face/CP_test.pickle','rb') as fp :\n",
    "    data = pickle.load(fp)\n",
    "\n",
    "for k in data :\n",
    "    # print(k[0])\n",
    "    img = cv2.imread(k[0], 1)\n",
    "    img = cv2.rectangle(img, (k[1], k[2]),(k[3], k[4]), bc, 3)\n",
    "    # if k[5] == '1' :\n",
    "    #     print(\"man\")\n",
    "    # else :\n",
    "    #     print(\"woman\")\n",
    "    # img = cv2.rectangle(img, (413, 70),(476, 151), bc, 3)\n",
    "\n",
    "    plt.imshow(img)\n",
    "    "
   ]
  }
 ],
 "metadata": {
  "kernelspec": {
   "display_name": "n_yolov7",
   "language": "python",
   "name": "n_yolov7"
  },
  "language_info": {
   "codemirror_mode": {
    "name": "ipython",
    "version": 3
   },
   "file_extension": ".py",
   "mimetype": "text/x-python",
   "name": "python",
   "nbconvert_exporter": "python",
   "pygments_lexer": "ipython3",
   "version": "3.9.16"
  },
  "orig_nbformat": 4,
  "vscode": {
   "interpreter": {
    "hash": "579e4dc71407b8ee65c7c1c025ce43919903b3f412f41a4e4b3c70aaebfbdba9"
   }
  }
 },
 "nbformat": 4,
 "nbformat_minor": 2
}
