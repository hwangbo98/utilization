{
 "cells": [
  {
   "cell_type": "code",
   "execution_count": 1,
   "metadata": {},
   "outputs": [],
   "source": [
    "import numpy as np\n",
    "import cv2\n",
    "import matplotlib.pyplot as plt\n",
    "import pickle\n",
    "\n",
    "bc = (255,0,0)\n",
    "\n",
    "# with open('../yolov7-face/CP_valid.pickle','rb') as fp :\n",
    "#     data = pickle.load(fp)\n",
    "\n",
    "# for k in data :\n",
    "#     print(k[0])\n",
    "#     img = cv2.imread(k[0], 1)\n",
    "#     img = cv2.rectangle(img, (k[1], k[2]),(k[3], k[4]), bc, 3)\n",
    "#     if k[5] == '1' :\n",
    "#         print(\"man\")\n",
    "#     else :\n",
    "#         print(\"woman\")\n",
    "#     # img = cv2.rectangle(img, (413, 70),(476, 151), bc, 3)\n",
    "\n",
    "#     plt.imshow(img)\n",
    "#     break #한장씩 하기 위해서 break 문"
   ]
  }
 ],
 "metadata": {
  "kernelspec": {
   "display_name": "n_yolov7",
   "language": "python",
   "name": "n_yolov7"
  },
  "language_info": {
   "codemirror_mode": {
    "name": "ipython",
    "version": 3
   },
   "file_extension": ".py",
   "mimetype": "text/x-python",
   "name": "python",
   "nbconvert_exporter": "python",
   "pygments_lexer": "ipython3",
   "version": "3.9.16"
  },
  "orig_nbformat": 4,
  "vscode": {
   "interpreter": {
    "hash": "579e4dc71407b8ee65c7c1c025ce43919903b3f412f41a4e4b3c70aaebfbdba9"
   }
  }
 },
 "nbformat": 4,
 "nbformat_minor": 2
}
